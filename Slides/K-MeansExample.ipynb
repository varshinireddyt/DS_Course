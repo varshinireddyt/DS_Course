{
 "cells": [
  {
   "cell_type": "markdown",
   "metadata": {},
   "source": [
    "Author: Sridhar Nerur\n",
    "This notebook demonstrates K-Mean clustering on the company dataset that\n",
    "was used to show MDS and hierarchical clustering."
   ]
  },
  {
   "cell_type": "code",
   "execution_count": 10,
   "metadata": {},
   "outputs": [],
   "source": [
    "from sklearn.feature_extraction.text import TfidfVectorizer\n",
    "import pandas as pd #to read Excel files\n",
    "from sklearn.feature_extraction.text import ENGLISH_STOP_WORDS\n",
    "import string #to remove punctuation and digits\n",
    "from glob import glob\n",
    "from sklearn.cluster import KMeans\n",
    "\n",
    "stopwords = list(ENGLISH_STOP_WORDS)\n",
    "my_stopwords = [\"include\",\"finally\", \"significant\"]\n",
    "stopwords.extend(my_stopwords)\n",
    "p = string.punctuation\n",
    "d = string.digits\n",
    "combined = p + d\n",
    "\n",
    "docs = [] #will contain text for all the companies\n",
    "company_names = [] #will contain our labels\n",
    "\n",
    "#simple function to parse our text\n",
    "def parse(txt):\n",
    "    txt = txt.lower()\n",
    "    #remove punctuation and digits\n",
    "    table = str.maketrans(combined, len(combined) * \" \")\n",
    "    txt = txt.translate(table)\n",
    "    #remove stopwords\n",
    "    words = txt.split()\n",
    "    cleaned_words = [w for w in words if w not in stopwords]\n",
    "    cleaned_text = \" \".join(cleaned_words)\n",
    "    return cleaned_text\n",
    "\n",
    "files = glob(\"/Users/snerur/Dropbox/patentsResearch/Patents_xls/*xlsx\")\n"
   ]
  },
  {
   "cell_type": "code",
   "execution_count": 18,
   "metadata": {},
   "outputs": [
    {
     "data": {
      "text/plain": [
       "318"
      ]
     },
     "execution_count": 18,
     "metadata": {},
     "output_type": "execute_result"
    }
   ],
   "source": [
    "len(ENGLISH_STOP_WORDS)"
   ]
  },
  {
   "cell_type": "code",
   "execution_count": 3,
   "metadata": {},
   "outputs": [
    {
     "data": {
      "text/plain": [
       "14"
      ]
     },
     "execution_count": 3,
     "metadata": {},
     "output_type": "execute_result"
    }
   ],
   "source": [
    "len(files)"
   ]
  },
  {
   "cell_type": "code",
   "execution_count": 4,
   "metadata": {},
   "outputs": [
    {
     "data": {
      "text/plain": [
       "'apple peaches sugar'"
      ]
     },
     "execution_count": 4,
     "metadata": {},
     "output_type": "execute_result"
    }
   ],
   "source": [
    "temp = [\"apple\",\"peaches\",\"sugar\"]\n",
    "\" \".join(temp)"
   ]
  },
  {
   "cell_type": "code",
   "execution_count": 11,
   "metadata": {},
   "outputs": [],
   "source": [
    "for f in files:\n",
    "    df = pd.read_excel(f)\n",
    "    df['AB'].dropna(inplace = True)\n",
    "    abstracts = list(df['AB'])\n",
    "    combined_abstracts = \" \".join(abstracts)\n",
    "    cleaned_abstracts = parse(combined_abstracts)\n",
    "    #add this to the docs list\n",
    "    docs.append(cleaned_abstracts)\n",
    "    #get company name and add it to company_names list\n",
    "    name = f.split(\"/\")[-1][:-5]\n",
    "    company_names.append(name)\n"
   ]
  },
  {
   "cell_type": "code",
   "execution_count": 14,
   "metadata": {},
   "outputs": [
    {
     "data": {
      "text/plain": [
       "['Huawei',\n",
       " 'Google',\n",
       " 'Pantech',\n",
       " 'Nokia',\n",
       " 'InterDigital',\n",
       " 'Sony Ericsson',\n",
       " 'ZTE',\n",
       " 'HTC',\n",
       " 'Oracle',\n",
       " 'LG',\n",
       " 'Kodak',\n",
       " 'Samsung',\n",
       " 'Apple']"
      ]
     },
     "execution_count": 14,
     "metadata": {},
     "output_type": "execute_result"
    }
   ],
   "source": [
    "company_names"
   ]
  },
  {
   "cell_type": "code",
   "execution_count": 15,
   "metadata": {},
   "outputs": [],
   "source": [
    "vectorizer = TfidfVectorizer()\n",
    "sparse_matrix = vectorizer.fit_transform(docs)\n",
    "#sparse_matrix.todense().shape"
   ]
  },
  {
   "cell_type": "code",
   "execution_count": 16,
   "metadata": {},
   "outputs": [
    {
     "data": {
      "text/plain": [
       "(13, 18935)"
      ]
     },
     "execution_count": 16,
     "metadata": {},
     "output_type": "execute_result"
    }
   ],
   "source": [
    "sparse_matrix.shape"
   ]
  },
  {
   "cell_type": "code",
   "execution_count": 12,
   "metadata": {
    "collapsed": true
   },
   "outputs": [],
   "source": [
    "km = KMeans(n_clusters=4, random_state=999)\n",
    "km.fit(sparse_matrix) #computes k-means clustering\n",
    "cluster_membership = km.predict(sparse_matrix) #predicts closest cluster\n",
    "company_distance_to_center = km.transform(sparse_clmatrix) #cluster distance"
   ]
  },
  {
   "cell_type": "code",
   "execution_count": 13,
   "metadata": {},
   "outputs": [
    {
     "data": {
      "text/plain": [
       "array([3, 3, 2, 1, 1, 0, 0, 1, 3, 1, 0, 1, 1], dtype=int32)"
      ]
     },
     "execution_count": 13,
     "metadata": {},
     "output_type": "execute_result"
    }
   ],
   "source": [
    "cluster_membership #assignment of companies to clusters"
   ]
  },
  {
   "cell_type": "code",
   "execution_count": 14,
   "metadata": {},
   "outputs": [
    {
     "data": {
      "text/plain": [
       "array([[0.78752632, 0.63044353, 0.97648638, 0.33855078],\n",
       "       [0.82223364, 0.54719083, 0.99148941, 0.32440141],\n",
       "       [0.9908749 , 0.92601728, 0.        , 0.95704288],\n",
       "       [0.97458571, 0.56376899, 1.13266974, 0.77125959],\n",
       "       [1.03481205, 0.6872545 , 1.16760799, 0.8884092 ],\n",
       "       [0.55770449, 0.98848745, 1.14515587, 0.95817478],\n",
       "       [0.38677668, 0.82089792, 1.07087921, 0.8578182 ],\n",
       "       [0.85499133, 0.38924021, 0.99460062, 0.53952426],\n",
       "       [0.94960969, 0.77395901, 1.09794839, 0.41763793],\n",
       "       [0.97515844, 0.6095006 , 1.12863469, 0.90970352],\n",
       "       [0.32870605, 0.83301597, 1.02762498, 0.84763039],\n",
       "       [0.86202969, 0.58170157, 0.90402829, 0.68879928],\n",
       "       [1.0928388 , 0.66032027, 1.2272073 , 0.95581338]])"
      ]
     },
     "execution_count": 14,
     "metadata": {},
     "output_type": "execute_result"
    }
   ],
   "source": [
    "company_distance_to_center #how far is each company from the centroids"
   ]
  },
  {
   "cell_type": "code",
   "execution_count": 16,
   "metadata": {},
   "outputs": [
    {
     "name": "stdout",
     "output_type": "stream",
     "text": [
      "Company_Name   Cluster# \n",
      "Apple           3\n",
      "Google          3\n",
      "HTC             2\n",
      "Huawei          1\n",
      "InterDigital    1\n",
      "Kodak           0\n",
      "LG              0\n",
      "Nokia           1\n",
      "Oracle          3\n",
      "Pantech         1\n",
      "Samsung         0\n",
      "Sony Ericsson   1\n",
      "ZTE             1\n"
     ]
    }
   ],
   "source": [
    "clusters = zip(cluster_membership, company_names)\n",
    "print(\"{0:<15s}{1:<9s}\".format(\"Company_Name\",\"Cluster#\"))\n",
    "for cluster_number, company_name in clusters:\n",
    "    print(\"{0:<15s}{1:2d}\".format(company_name,cluster_number))"
   ]
  },
  {
   "cell_type": "code",
   "execution_count": 17,
   "metadata": {},
   "outputs": [
    {
     "data": {
      "text/html": [
       "<div>\n",
       "<style scoped>\n",
       "    .dataframe tbody tr th:only-of-type {\n",
       "        vertical-align: middle;\n",
       "    }\n",
       "\n",
       "    .dataframe tbody tr th {\n",
       "        vertical-align: top;\n",
       "    }\n",
       "\n",
       "    .dataframe thead th {\n",
       "        text-align: right;\n",
       "    }\n",
       "</style>\n",
       "<table border=\"1\" class=\"dataframe\">\n",
       "  <thead>\n",
       "    <tr style=\"text-align: right;\">\n",
       "      <th></th>\n",
       "      <th>Company</th>\n",
       "      <th>Cluster#</th>\n",
       "      <th>Centroid_Dist0</th>\n",
       "      <th>Centroid_Dist1</th>\n",
       "      <th>Centroid_Dist2</th>\n",
       "      <th>Centroid_Dist3</th>\n",
       "    </tr>\n",
       "  </thead>\n",
       "  <tbody>\n",
       "    <tr>\n",
       "      <th>0</th>\n",
       "      <td>Apple</td>\n",
       "      <td>3</td>\n",
       "      <td>0.787526</td>\n",
       "      <td>0.630444</td>\n",
       "      <td>0.976486</td>\n",
       "      <td>0.338551</td>\n",
       "    </tr>\n",
       "    <tr>\n",
       "      <th>1</th>\n",
       "      <td>Google</td>\n",
       "      <td>3</td>\n",
       "      <td>0.822234</td>\n",
       "      <td>0.547191</td>\n",
       "      <td>0.991489</td>\n",
       "      <td>0.324401</td>\n",
       "    </tr>\n",
       "    <tr>\n",
       "      <th>2</th>\n",
       "      <td>HTC</td>\n",
       "      <td>2</td>\n",
       "      <td>0.990875</td>\n",
       "      <td>0.926017</td>\n",
       "      <td>0.000000</td>\n",
       "      <td>0.957043</td>\n",
       "    </tr>\n",
       "    <tr>\n",
       "      <th>3</th>\n",
       "      <td>Huawei</td>\n",
       "      <td>1</td>\n",
       "      <td>0.974586</td>\n",
       "      <td>0.563769</td>\n",
       "      <td>1.132670</td>\n",
       "      <td>0.771260</td>\n",
       "    </tr>\n",
       "    <tr>\n",
       "      <th>4</th>\n",
       "      <td>InterDigital</td>\n",
       "      <td>1</td>\n",
       "      <td>1.034812</td>\n",
       "      <td>0.687254</td>\n",
       "      <td>1.167608</td>\n",
       "      <td>0.888409</td>\n",
       "    </tr>\n",
       "    <tr>\n",
       "      <th>5</th>\n",
       "      <td>Kodak</td>\n",
       "      <td>0</td>\n",
       "      <td>0.557704</td>\n",
       "      <td>0.988487</td>\n",
       "      <td>1.145156</td>\n",
       "      <td>0.958175</td>\n",
       "    </tr>\n",
       "    <tr>\n",
       "      <th>6</th>\n",
       "      <td>LG</td>\n",
       "      <td>0</td>\n",
       "      <td>0.386777</td>\n",
       "      <td>0.820898</td>\n",
       "      <td>1.070879</td>\n",
       "      <td>0.857818</td>\n",
       "    </tr>\n",
       "    <tr>\n",
       "      <th>7</th>\n",
       "      <td>Nokia</td>\n",
       "      <td>1</td>\n",
       "      <td>0.854991</td>\n",
       "      <td>0.389240</td>\n",
       "      <td>0.994601</td>\n",
       "      <td>0.539524</td>\n",
       "    </tr>\n",
       "    <tr>\n",
       "      <th>8</th>\n",
       "      <td>Oracle</td>\n",
       "      <td>3</td>\n",
       "      <td>0.949610</td>\n",
       "      <td>0.773959</td>\n",
       "      <td>1.097948</td>\n",
       "      <td>0.417638</td>\n",
       "    </tr>\n",
       "    <tr>\n",
       "      <th>9</th>\n",
       "      <td>Pantech</td>\n",
       "      <td>1</td>\n",
       "      <td>0.975158</td>\n",
       "      <td>0.609501</td>\n",
       "      <td>1.128635</td>\n",
       "      <td>0.909704</td>\n",
       "    </tr>\n",
       "    <tr>\n",
       "      <th>10</th>\n",
       "      <td>Samsung</td>\n",
       "      <td>0</td>\n",
       "      <td>0.328706</td>\n",
       "      <td>0.833016</td>\n",
       "      <td>1.027625</td>\n",
       "      <td>0.847630</td>\n",
       "    </tr>\n",
       "    <tr>\n",
       "      <th>11</th>\n",
       "      <td>Sony Ericsson</td>\n",
       "      <td>1</td>\n",
       "      <td>0.862030</td>\n",
       "      <td>0.581702</td>\n",
       "      <td>0.904028</td>\n",
       "      <td>0.688799</td>\n",
       "    </tr>\n",
       "    <tr>\n",
       "      <th>12</th>\n",
       "      <td>ZTE</td>\n",
       "      <td>1</td>\n",
       "      <td>1.092839</td>\n",
       "      <td>0.660320</td>\n",
       "      <td>1.227207</td>\n",
       "      <td>0.955813</td>\n",
       "    </tr>\n",
       "  </tbody>\n",
       "</table>\n",
       "</div>"
      ],
      "text/plain": [
       "          Company  Cluster#  Centroid_Dist0  Centroid_Dist1  Centroid_Dist2  \\\n",
       "0           Apple         3        0.787526        0.630444        0.976486   \n",
       "1          Google         3        0.822234        0.547191        0.991489   \n",
       "2             HTC         2        0.990875        0.926017        0.000000   \n",
       "3          Huawei         1        0.974586        0.563769        1.132670   \n",
       "4    InterDigital         1        1.034812        0.687254        1.167608   \n",
       "5           Kodak         0        0.557704        0.988487        1.145156   \n",
       "6              LG         0        0.386777        0.820898        1.070879   \n",
       "7           Nokia         1        0.854991        0.389240        0.994601   \n",
       "8          Oracle         3        0.949610        0.773959        1.097948   \n",
       "9         Pantech         1        0.975158        0.609501        1.128635   \n",
       "10        Samsung         0        0.328706        0.833016        1.027625   \n",
       "11  Sony Ericsson         1        0.862030        0.581702        0.904028   \n",
       "12            ZTE         1        1.092839        0.660320        1.227207   \n",
       "\n",
       "    Centroid_Dist3  \n",
       "0         0.338551  \n",
       "1         0.324401  \n",
       "2         0.957043  \n",
       "3         0.771260  \n",
       "4         0.888409  \n",
       "5         0.958175  \n",
       "6         0.857818  \n",
       "7         0.539524  \n",
       "8         0.417638  \n",
       "9         0.909704  \n",
       "10        0.847630  \n",
       "11        0.688799  \n",
       "12        0.955813  "
      ]
     },
     "execution_count": 17,
     "metadata": {},
     "output_type": "execute_result"
    }
   ],
   "source": [
    "companies = {'Company': company_names, 'Cluster#': cluster_membership,\\\n",
    "            'Centroid_Dist0':company_distance_to_center[0:,0],\\\n",
    "            'Centroid_Dist1':company_distance_to_center[0:,1],\\\n",
    "            'Centroid_Dist2':company_distance_to_center[0:,2],\\\n",
    "            'Centroid_Dist3':company_distance_to_center[0:,3]\n",
    "            }\n",
    "#let us put this in a dataframe\n",
    "import pandas as pd\n",
    "df = pd.DataFrame(companies)\n",
    "df"
   ]
  }
 ],
 "metadata": {
  "kernelspec": {
   "display_name": "Python 3",
   "language": "python",
   "name": "python3"
  },
  "language_info": {
   "codemirror_mode": {
    "name": "ipython",
    "version": 3
   },
   "file_extension": ".py",
   "mimetype": "text/x-python",
   "name": "python",
   "nbconvert_exporter": "python",
   "pygments_lexer": "ipython3",
   "version": "3.7.4"
  }
 },
 "nbformat": 4,
 "nbformat_minor": 2
}
