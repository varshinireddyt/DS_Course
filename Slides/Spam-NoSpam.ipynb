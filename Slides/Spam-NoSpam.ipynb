{
 "cells": [
  {
   "cell_type": "markdown",
   "metadata": {},
   "source": [
    "This example is to illustrate how Naive Bayes can be used to \n",
    "classify emails as Spam and Non-Spam. The exercise is from the following URL: http://openclassroom.stanford.edu/MainFolder/DocumentPage.php?course=MachineLearning&doc=exercises/ex6/ex6.html\n",
    "Download the file and unzip/extract it. You should see four directories, namely, spam-train, spam-test, nonspam-train and nonspam-test. Our first task is to read this into lists......"
   ]
  },
  {
   "cell_type": "code",
   "execution_count": 15,
   "metadata": {},
   "outputs": [],
   "source": [
    "#import the appropriate Naive Bayes class - MultinomialNB \n",
    "from sklearn.naive_bayes import MultinomialNB\n",
    "import glob as glob"
   ]
  },
  {
   "cell_type": "code",
   "execution_count": 21,
   "metadata": {},
   "outputs": [],
   "source": [
    "import numpy as np\n",
    "from collections import Counter\n",
    "import os\n",
    "base_dir = \"/Users/snerur/Dropbox/insy5378/ex6\""
   ]
  },
  {
   "cell_type": "code",
   "execution_count": 24,
   "metadata": {},
   "outputs": [
    {
     "name": "stdout",
     "output_type": "stream",
     "text": [
      "350 130 350 130\n"
     ]
    }
   ],
   "source": [
    "spam_train = []\n",
    "spam_test = []\n",
    "nospam_train = []\n",
    "nospam_test = []\n",
    "\n",
    "def populate(aList, dest):\n",
    "    files = glob.glob(dest + \"/*txt\")\n",
    "    for f in files:\n",
    "        with open(f) as infile:\n",
    "            aList.append(infile.read())\n",
    "\n",
    "dest = os.path.join(base_dir,\"spam-train\")\n",
    "populate(spam_train, dest)\n",
    "populate(spam_test, base_dir + \"/spam-test\")\n",
    "populate(nospam_train, base_dir + \"/nonspam-train\")\n",
    "populate(nospam_test, base_dir + \"/nonspam-test\")\n",
    "print(len(spam_train), len(spam_test), len(nospam_train), len(nospam_test))"
   ]
  },
  {
   "cell_type": "code",
   "execution_count": 25,
   "metadata": {},
   "outputs": [],
   "source": [
    "X_train = spam_train + nospam_train\n",
    "X_test = spam_test + nospam_test\n",
    "y_train = list(np.ones(350)) + list(np.zeros(350))\n",
    "y_test = list(np.ones(130)) + list(np.zeros(130))"
   ]
  },
  {
   "cell_type": "code",
   "execution_count": 57,
   "metadata": {},
   "outputs": [],
   "source": [
    "#let us get the features for our training texts\n",
    "from sklearn.feature_extraction.text import HashingVectorizer,\\\n",
    "                                            CountVectorizer\n",
    "vectorizer = CountVectorizer()\n",
    "features = vectorizer.fit_transform(X_train)\n",
    "#features will be a sparse matrix - you may convert it to a dense matrix\n",
    "#features_dense = features.todense()"
   ]
  },
  {
   "cell_type": "code",
   "execution_count": 58,
   "metadata": {},
   "outputs": [
    {
     "data": {
      "text/plain": [
       "MultinomialNB(alpha=0.1, class_prior=None, fit_prior=True)"
      ]
     },
     "execution_count": 58,
     "metadata": {},
     "output_type": "execute_result"
    }
   ],
   "source": [
    "#let us now build our model and test it\n",
    "model = MultinomialNB(alpha = 0.1) #ensure very rare words don't end up\n",
    "                                    #with a probability of 0\n",
    "model.fit(features_dense, y_train)"
   ]
  },
  {
   "cell_type": "code",
   "execution_count": 59,
   "metadata": {},
   "outputs": [],
   "source": [
    "test_features = vectorizer.transform(X_test)"
   ]
  },
  {
   "cell_type": "code",
   "execution_count": 60,
   "metadata": {},
   "outputs": [
    {
     "data": {
      "text/plain": [
       "array([1., 1., 1., 1., 1., 1., 1., 1., 1., 1., 1., 1., 1., 1., 1., 1., 1.,\n",
       "       1., 1., 1., 1., 1., 1., 1., 1., 1., 1., 1., 1., 1., 1., 1., 1., 1.,\n",
       "       1., 1., 1., 1., 1., 1., 1., 1., 1., 1., 1., 1., 1., 1., 1., 1., 1.,\n",
       "       1., 1., 1., 1., 1., 1., 1., 1., 1., 1., 1., 1., 1., 1., 1., 1., 1.,\n",
       "       1., 1., 1., 1., 1., 1., 1., 1., 1., 1., 1., 1., 1., 1., 1., 1., 1.,\n",
       "       1., 1., 1., 1., 1., 1., 1., 1., 1., 1., 1., 1., 1., 1., 1., 1., 1.,\n",
       "       1., 1., 1., 1., 0., 1., 1., 1., 1., 1., 1., 1., 1., 1., 1., 1., 1.,\n",
       "       1., 1., 1., 1., 1., 1., 1., 1., 0., 1., 1., 0., 0., 0., 0., 0., 0.,\n",
       "       0., 0., 0., 0., 0., 0., 0., 0., 0., 0., 0., 0., 0., 0., 0., 0., 0.,\n",
       "       0., 0., 0., 0., 0., 0., 1., 0., 0., 0., 0., 0., 0., 0., 0., 0., 0.,\n",
       "       0., 0., 0., 0., 0., 0., 0., 0., 0., 0., 0., 0., 0., 0., 0., 0., 0.,\n",
       "       0., 0., 0., 0., 0., 0., 0., 0., 0., 0., 0., 0., 0., 0., 0., 0., 0.,\n",
       "       0., 1., 0., 0., 0., 0., 0., 0., 0., 0., 0., 0., 0., 0., 1., 0., 0.,\n",
       "       0., 0., 0., 0., 0., 0., 0., 0., 0., 0., 0., 0., 0., 0., 0., 0., 1.,\n",
       "       0., 0., 0., 0., 0., 0., 0., 0., 0., 0., 0., 0., 0., 0., 0., 0., 0.,\n",
       "       0., 0., 0., 0., 0.])"
      ]
     },
     "execution_count": 60,
     "metadata": {},
     "output_type": "execute_result"
    }
   ],
   "source": [
    "predicted = model.predict(test_features)\n",
    "predicted"
   ]
  },
  {
   "cell_type": "code",
   "execution_count": 30,
   "metadata": {},
   "outputs": [
    {
     "name": "stdout",
     "output_type": "stream",
     "text": [
      "Accuracy:  0.9769230769230769\n"
     ]
    }
   ],
   "source": [
    "#what is the accuracy of our prediction\n",
    "import sklearn.metrics as metrics\n",
    "print(\"Accuracy: \", metrics.accuracy_score(y_test, predicted))\n"
   ]
  },
  {
   "cell_type": "code",
   "execution_count": 54,
   "metadata": {},
   "outputs": [
    {
     "name": "stdout",
     "output_type": "stream",
     "text": [
      "\n",
      "Classification Report: \n",
      "              precision    recall  f1-score   support\n",
      "\n",
      "     NO-SPAM       0.98      0.97      0.98       130\n",
      "        SPAM       0.97      0.98      0.98       130\n",
      "\n",
      "    accuracy                           0.98       260\n",
      "   macro avg       0.98      0.98      0.98       260\n",
      "weighted avg       0.98      0.98      0.98       260\n",
      "\n"
     ]
    }
   ],
   "source": [
    "#let us get some more metrics ....\n",
    "probabilities = model.predict_proba(test_features) #we will need this\n",
    "                                                   #for AUC/precision/recall\n",
    "from sklearn.metrics import precision_recall_curve, auc, \\\n",
    "classification_report\n",
    "print(\"\\nClassification Report: \")\n",
    "print(classification_report(y_test, predicted, \\\n",
    "                            target_names=['NO-SPAM', 'SPAM']))\n"
   ]
  },
  {
   "cell_type": "code",
   "execution_count": 56,
   "metadata": {},
   "outputs": [
    {
     "name": "stdout",
     "output_type": "stream",
     "text": [
      "[[128   2]\n",
      " [  4 126]]\n"
     ]
    }
   ],
   "source": [
    "from sklearn.metrics import confusion_matrix\n",
    "print(confusion_matrix(y_test, predicted,\\\n",
    "                       labels =[1, 0] ))"
   ]
  },
  {
   "cell_type": "code",
   "execution_count": 35,
   "metadata": {},
   "outputs": [
    {
     "name": "stdout",
     "output_type": "stream",
     "text": [
      "\n",
      "Area Under Curve: 0.99\n"
     ]
    }
   ],
   "source": [
    "\n",
    "precision, recall, prob_thresholds = \\\n",
    "           precision_recall_curve(y_test, probabilities[:, 1])\n",
    "\n",
    "#area under the curve\n",
    "area = auc(recall, precision)\n",
    "print(\"\\nArea Under Curve: %0.2f\" % area)\n"
   ]
  },
  {
   "cell_type": "code",
   "execution_count": 37,
   "metadata": {},
   "outputs": [
    {
     "data": {
      "image/png": "[encoded data removed]",
      "text/plain": [
       "<Figure size 432x288 with 1 Axes>"
      ]
     },
     "metadata": {},
     "output_type": "display_data"
    }
   ],
   "source": [
    "import matplotlib.pyplot as plt\n",
    "plt.plot(recall, precision, label='Precision-Recall curve')\n",
    "plt.xlabel('Recall')\n",
    "plt.ylabel('Precision')\n",
    "plt.ylim([0.0, 1.05])\n",
    "plt.xlim([0.0, 1.0])\n",
    "plt.title('Precision-Recall example: AUC=%0.2f' % area)\n",
    "plt.legend(loc=\"lower left\")\n",
    "\n",
    "plt.show()"
   ]
  },
  {
   "cell_type": "code",
   "execution_count": 48,
   "metadata": {},
   "outputs": [
    {
     "data": {
      "text/plain": [
       "array([1.])"
      ]
     },
     "execution_count": 48,
     "metadata": {},
     "output_type": "execute_result"
    }
   ],
   "source": [
    "test_input = vectorizer.transform([\"success guaranteed only few dollars\"])\n",
    "model.predict(test_input)"
   ]
  },
  {
   "cell_type": "code",
   "execution_count": 51,
   "metadata": {},
   "outputs": [
    {
     "data": {
      "text/plain": [
       "array([0.])"
      ]
     },
     "execution_count": 51,
     "metadata": {},
     "output_type": "execute_result"
    }
   ],
   "source": [
    "test_input = vectorizer.transform([\"conference for information systems and telecom\"])\n",
    "model.predict(test_input)"
   ]
  }
 ],
 "metadata": {
  "kernelspec": {
   "display_name": "Python 3",
   "language": "python",
   "name": "python3"
  },
  "language_info": {
   "codemirror_mode": {
    "name": "ipython",
    "version": 3
   },
   "file_extension": ".py",
   "mimetype": "text/x-python",
   "name": "python",
   "nbconvert_exporter": "python",
   "pygments_lexer": "ipython3",
   "version": "3.7.4"
  }
 },
 "nbformat": 4,
 "nbformat_minor": 2
}
