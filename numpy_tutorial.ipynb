{
 "cells": [
  {
   "cell_type": "markdown",
   "metadata": {},
   "source": [
    "Author: Sridhar Nerur\n",
    "Disclaimer: There is absolutely nothing original about this tutorial. Most of the examples are based on Wes McKinney's wonderful book Python for Data Analysis (O'Reilly).\n",
    "Overview:\n",
    "There are some cool things that you can do with Numpy. A few of them are given below:\n",
    "1. Creating multidimensional arrays and manipulating them. For example, you can perform vectorized arithmetic operations on them. It also supports broadcasting.\n",
    "2. It allows you to perform standard mathematical functions on arrays. It is very easy to multiply matrices, transpose them, etc.\n",
    "3. It is great for applying linear algebra concepts, Fourier transforms, generating random numbers/distributions, etc.\n",
    "4. It also allows one to integrate code with other languages such as C (e.g., C API) and Fortran."
   ]
  },
  {
   "cell_type": "code",
   "execution_count": 1,
   "metadata": {},
   "outputs": [
    {
     "name": "stdout",
     "output_type": "stream",
     "text": [
      "1.17.2\n"
     ]
    }
   ],
   "source": [
    "#import numpy\n",
    "import numpy as np\n",
    "print(np.__version__) #you can update using conda or pip"
   ]
  },
  {
   "cell_type": "code",
   "execution_count": 2,
   "metadata": {},
   "outputs": [
    {
     "name": "stdout",
     "output_type": "stream",
     "text": [
      "[[ 1  2  3  4]\n",
      " [10 11 12 13]]\n",
      "Dimensions:  (2, 4)\n",
      "m's type:  <class 'numpy.ndarray'>\n",
      "Type of data in m:  int64\n"
     ]
    }
   ],
   "source": [
    "#Simple operations with multidimensional arrays\n",
    "m = np.array([[1, 2, 3, 4],[10, 11, 12, 13]])\n",
    "print(m)\n",
    "print(\"Dimensions: \", m.shape)\n",
    "print(\"m's type: \", type(m))\n",
    "print(\"Type of data in m: \", m.dtype)\n"
   ]
  },
  {
   "cell_type": "code",
   "execution_count": 15,
   "metadata": {},
   "outputs": [
    {
     "name": "stdout",
     "output_type": "stream",
     "text": [
      "m * 5 = \n",
      " [[ 5 10 15 20]\n",
      " [50 55 60 65]]\n",
      "m + m = \n",
      " [[ 2  4  6  8]\n",
      " [20 22 24 26]]\n"
     ]
    }
   ],
   "source": [
    "#let us try a few mathematical operations\n",
    "print(\"m * 5 = \\n\", m * 5)\n",
    "print(\"m + m = \\n\", m + m)"
   ]
  },
  {
   "cell_type": "code",
   "execution_count": 5,
   "metadata": {},
   "outputs": [
    {
     "name": "stdout",
     "output_type": "stream",
     "text": [
      "2\n"
     ]
    }
   ],
   "source": [
    "#how many dimensions are we dealing with\n",
    "print(m.ndim)"
   ]
  },
  {
   "cell_type": "code",
   "execution_count": 6,
   "metadata": {},
   "outputs": [
    {
     "data": {
      "text/plain": [
       "array([[ 1.,  2.,  3.,  4.],\n",
       "       [10., 11., 12., 13.]])"
      ]
     },
     "execution_count": 6,
     "metadata": {},
     "output_type": "execute_result"
    }
   ],
   "source": [
    "#converting our ints to floats\n",
    "m.astype('float64')"
   ]
  },
  {
   "cell_type": "code",
   "execution_count": 7,
   "metadata": {},
   "outputs": [
    {
     "name": "stdout",
     "output_type": "stream",
     "text": [
      "Matrix of zeros: \n",
      " [[0. 0. 0. 0.]\n",
      " [0. 0. 0. 0.]]\n",
      "Array of 10 sequential numbers: \n",
      " [0 1 2 3 4 5 6 7 8 9]\n",
      "Identity matrix:\n",
      " [[1. 0. 0.]\n",
      " [0. 1. 0.]\n",
      " [0. 0. 1.]]\n"
     ]
    }
   ],
   "source": [
    "#creating arrays \n",
    "#Exampe 1: Creating a 2 x 4 array filled with zeros\n",
    "zeros_matrix = np.zeros((2,4))\n",
    "print(\"Matrix of zeros: \\n\", zeros_matrix)\n",
    "#to fill with ones use np.ones\n",
    "#creating an array of 10 sequential numbers\n",
    "v = np.arange(10)\n",
    "print(\"Array of 10 sequential numbers: \\n\",v)\n",
    "#creating an identity matrix\n",
    "i = np.eye(3)#diagonal will have ones, and the remaining will be 0s\n",
    "print(\"Identity matrix:\\n\", i)"
   ]
  },
  {
   "cell_type": "code",
   "execution_count": 8,
   "metadata": {},
   "outputs": [
    {
     "name": "stdout",
     "output_type": "stream",
     "text": [
      "[[ 1  2  3  4]\n",
      " [10 11 12 13]]\n",
      "Matrix times itself:\n",
      " [[  1   4   9  16]\n",
      " [100 121 144 169]]\n",
      "Matrix raised to 0.5:\n",
      " [[1.         1.41421356 1.73205081 2.        ]\n",
      " [3.16227766 3.31662479 3.46410162 3.60555128]]\n"
     ]
    }
   ],
   "source": [
    "#some more operations\n",
    "print(m) #our original matrix\n",
    "print(\"Matrix times itself:\\n\", m * m) #multiply corresponding elements\n",
    "print(\"Matrix raised to 0.5:\\n\", m ** 0.5)"
   ]
  },
  {
   "cell_type": "code",
   "execution_count": 9,
   "metadata": {},
   "outputs": [
    {
     "name": "stdout",
     "output_type": "stream",
     "text": [
      "1: gives:\n",
      " [2 3 4 5]\n",
      "2:4 gives:\n",
      " [3 4]\n"
     ]
    }
   ],
   "source": [
    "#slicing one dimensional numpy arrays - just like lists in Python\n",
    "x = np.array([1,2,3,4,5])\n",
    "print(\"1: gives:\\n\", x[1:])\n",
    "print(\"2:4 gives:\\n\", x[2:4])"
   ]
  },
  {
   "cell_type": "code",
   "execution_count": 10,
   "metadata": {},
   "outputs": [
    {
     "name": "stdout",
     "output_type": "stream",
     "text": [
      "[1 2 6 8 5]\n",
      "[0 0 6 8 5]\n"
     ]
    }
   ],
   "source": [
    "#Broadcasting....this is cool\n",
    "x[2:4] *= 2\n",
    "print(x)\n",
    "#replace first two elements with 0\n",
    "x[:2] = 0\n",
    "print(x)"
   ]
  },
  {
   "cell_type": "code",
   "execution_count": 11,
   "metadata": {},
   "outputs": [
    {
     "name": "stdout",
     "output_type": "stream",
     "text": [
      "Original list:\n",
      " [1, 2, 3, 4, 5]\n",
      "Slice:\n",
      " [1, 2]\n",
      "Slice:\n",
      " [10, 2]\n",
      "List after slice is changed:\n",
      " [1, 2, 3, 4, 5]\n",
      "Original numpy array:\n",
      " [1 2 3 4 5]\n",
      "Original slice:\n",
      " [1 2]\n",
      "Changed slice:\n",
      " [10  2]\n",
      "x after change to slice:\n",
      " [10  2  3  4  5]\n"
     ]
    }
   ],
   "source": [
    "#one important difference between lists and arrays.....\n",
    "aList = [1,2,3,4,5]\n",
    "print(\"Original list:\\n\", aList)\n",
    "a_slice = aList[:2] #get the first two elements\n",
    "print(\"Slice:\\n\", a_slice)\n",
    "#let us change the slice\n",
    "a_slice[0] = 10\n",
    "print(\"Slice:\\n\", a_slice)\n",
    "#what about the original list?\n",
    "print(\"List after slice is changed:\\n\", aList) #there should be no change\n",
    "#Now, let us do it with numpy arrays and see what happens\n",
    "x = np.array([1,2,3,4,5])\n",
    "print(\"Original numpy array:\\n\", x)\n",
    "x_slice = x[:2]\n",
    "print(\"Original slice:\\n\", x_slice)\n",
    "#now change x_slice\n",
    "x_slice[0] = 10\n",
    "print(\"Changed slice:\\n\", x_slice)\n",
    "#was x affected?\n",
    "print(\"x after change to slice:\\n\", x)"
   ]
  },
  {
   "cell_type": "code",
   "execution_count": 4,
   "metadata": {},
   "outputs": [
    {
     "name": "stdout",
     "output_type": "stream",
     "text": [
      "[[ 0.48001109 -0.68229372 -0.01895502 -0.83832784]\n",
      " [-0.22130272  0.84669793  0.29504343 -0.27998416]\n",
      " [-0.17829735  1.29341941  0.63302758 -1.14309771]\n",
      " [ 0.55650699  0.92536045 -0.52058964 -0.80836642]\n",
      " [-1.79998587  1.44956897  1.03108533 -1.32765066]]\n"
     ]
    }
   ],
   "source": [
    "#creating a matrix of random normally distributed data\n",
    "data = np.random.randn(5,4)\n",
    "print(data)"
   ]
  },
  {
   "cell_type": "code",
   "execution_count": 5,
   "metadata": {},
   "outputs": [
    {
     "data": {
      "text/plain": [
       "array([[-0.17829735,  1.29341941,  0.63302758, -1.14309771]])"
      ]
     },
     "execution_count": 5,
     "metadata": {},
     "output_type": "execute_result"
    }
   ],
   "source": [
    "#we could associate each of the 5 rows above with some names\n",
    "names = np.array([\"John\", \"Mary\", \"Peter\", \"Pollock\", \"Richards\"])\n",
    "#let us display Peter's data - row# 3\n",
    "data[names == \"Peter\"]"
   ]
  },
  {
   "cell_type": "code",
   "execution_count": 6,
   "metadata": {},
   "outputs": [
    {
     "data": {
      "text/plain": [
       "array([[-0.22130272,  0.84669793,  0.29504343, -0.27998416],\n",
       "       [-1.79998587,  1.44956897,  1.03108533, -1.32765066]])"
      ]
     },
     "execution_count": 6,
     "metadata": {},
     "output_type": "execute_result"
    }
   ],
   "source": [
    "#you can use Boolean expressions too\n",
    "#example: display the rows corresponding to Mary and Richards\n",
    "data[(names == 'Mary') | (names == \"Richards\")]"
   ]
  },
  {
   "cell_type": "code",
   "execution_count": 23,
   "metadata": {},
   "outputs": [
    {
     "data": {
      "text/plain": [
       "array([[0.        , 0.        , 0.        , 1.2261069 ],\n",
       "       [0.93799974, 0.        , 0.        , 0.00258978],\n",
       "       [0.        , 0.        , 1.84358564, 0.        ],\n",
       "       [0.        , 0.        , 0.3564609 , 0.        ],\n",
       "       [0.        , 0.        , 1.05092698, 0.66160643]])"
      ]
     },
     "execution_count": 23,
     "metadata": {},
     "output_type": "execute_result"
    }
   ],
   "source": [
    "#let us replace all negative numbers in data with 0\n",
    "data[data < 0] = 0\n",
    "data"
   ]
  },
  {
   "cell_type": "code",
   "execution_count": 24,
   "metadata": {},
   "outputs": [
    {
     "data": {
      "text/plain": [
       "array([[0.        , 1.84358564, 0.3564609 ],\n",
       "       [0.00258978, 0.        , 0.        ]])"
      ]
     },
     "execution_count": 24,
     "metadata": {},
     "output_type": "execute_result"
    }
   ],
   "source": [
    "#slice the data and then transpose\n",
    "data[1:4,2:].T"
   ]
  },
  {
   "cell_type": "code",
   "execution_count": 34,
   "metadata": {},
   "outputs": [
    {
     "data": {
      "text/plain": [
       "array([1.41421356, 1.73205081, 2.        , 2.23606798, 2.44948974])"
      ]
     },
     "execution_count": 34,
     "metadata": {},
     "output_type": "execute_result"
    }
   ],
   "source": [
    "#universal functions - unary ufuncs\n",
    "x = np.array([2,3,4,5,6])\n",
    "np.sqrt(x)\n",
    "#you can try out other functions - exp, log, log2, abs, isnan, cos, ...."
   ]
  },
  {
   "cell_type": "code",
   "execution_count": 36,
   "metadata": {},
   "outputs": [
    {
     "name": "stdout",
     "output_type": "stream",
     "text": [
      "[10 18  5  8 13]\n",
      "[15 30  6 15 24]\n",
      "[ 5 -6  4  1 -2]\n",
      "[ 50 216   5  56 143]\n"
     ]
    }
   ],
   "source": [
    "#binary ufuncs\n",
    "#consider the following arrays\n",
    "a = np.array([10,12,5,8,11])\n",
    "b = np.array([5, 18, 1, 7, 13])\n",
    "print(np.maximum(a,b))\n",
    "print(np.add(a,b))\n",
    "print(np.subtract(a,b))\n",
    "print(np.multiply(a,b))"
   ]
  },
  {
   "cell_type": "code",
   "execution_count": 11,
   "metadata": {},
   "outputs": [
    {
     "data": {
      "text/plain": [
       "array([ 1,  1, -1,  1, -1, -1])"
      ]
     },
     "execution_count": 11,
     "metadata": {},
     "output_type": "execute_result"
    }
   ],
   "source": [
    "#using conditional logic - where\n",
    "a = np.array([2,3,-4,8,-3,-7])\n",
    "#let us replace 0 and positive numbers with 1 and negative numbers with -1\n",
    "np.where( a >= 0, 1, -1)"
   ]
  },
  {
   "cell_type": "code",
   "execution_count": 39,
   "metadata": {},
   "outputs": [
    {
     "name": "stdout",
     "output_type": "stream",
     "text": [
      "Mean:  4.833333333333333\n",
      "Sum:  29\n",
      "Std. Deviation:  2.608745973749755\n"
     ]
    }
   ],
   "source": [
    "#mathematical and statistical methods\n",
    "#we will use the numpy array \"a\" given below\n",
    "a = np.array([1,3,5,7,9,4])\n",
    "print(\"Mean: \", a.mean()) #or, np.mean(a)\n",
    "print(\"Sum: \", a.sum())\n",
    "print(\"Std. Deviation: \", a.std()) #var() for variance\n"
   ]
  },
  {
   "cell_type": "code",
   "execution_count": 12,
   "metadata": {},
   "outputs": [
    {
     "data": {
      "text/plain": [
       "array([[ 1,  2,  3],\n",
       "       [ 5,  7,  9],\n",
       "       [12, 15, 18]])"
      ]
     },
     "execution_count": 12,
     "metadata": {},
     "output_type": "execute_result"
    }
   ],
   "source": [
    "#multidimensional arrays\n",
    "a = np.array([[1,2,3],[4,5,6],[7,8,9]])\n",
    "a.mean() #mean of all the numbers in the array\n",
    "a.mean(axis = 0) #gives column averages\n",
    "a.mean(axis = 1) #gives row averages\n",
    "a.cumsum(0) #get cumulative sums for each column\n"
   ]
  },
  {
   "cell_type": "code",
   "execution_count": 18,
   "metadata": {},
   "outputs": [
    {
     "data": {
      "text/plain": [
       "array([12, 15, 18])"
      ]
     },
     "execution_count": 18,
     "metadata": {},
     "output_type": "execute_result"
    }
   ],
   "source": [
    "a.sum(axis=0)"
   ]
  },
  {
   "cell_type": "code",
   "execution_count": 19,
   "metadata": {},
   "outputs": [
    {
     "data": {
      "text/plain": [
       "array([ 6, 15, 24])"
      ]
     },
     "execution_count": 19,
     "metadata": {},
     "output_type": "execute_result"
    }
   ],
   "source": [
    "a.sum(axis=1)"
   ]
  },
  {
   "cell_type": "code",
   "execution_count": 47,
   "metadata": {},
   "outputs": [
    {
     "data": {
      "text/plain": [
       "2"
      ]
     },
     "execution_count": 47,
     "metadata": {},
     "output_type": "execute_result"
    }
   ],
   "source": [
    "#consider the following array\n",
    "a = np.array([11,3,15,7,9,4])\n",
    "#let us try a function called argmax - you should also try argmin\n",
    "a.argmax() #returns index of the largest element in the array"
   ]
  },
  {
   "cell_type": "code",
   "execution_count": 53,
   "metadata": {},
   "outputs": [
    {
     "data": {
      "text/plain": [
       "array([ 3,  4,  7,  9, 11, 15])"
      ]
     },
     "execution_count": 53,
     "metadata": {},
     "output_type": "execute_result"
    }
   ],
   "source": [
    "#sorting\n",
    "a.sort()\n",
    "a"
   ]
  },
  {
   "cell_type": "code",
   "execution_count": 54,
   "metadata": {},
   "outputs": [
    {
     "data": {
      "text/plain": [
       "array([15, 11,  9,  7,  4,  3])"
      ]
     },
     "execution_count": 54,
     "metadata": {},
     "output_type": "execute_result"
    }
   ],
   "source": [
    "#sorted in reverse order\n",
    "a[::-1]"
   ]
  },
  {
   "cell_type": "code",
   "execution_count": 3,
   "metadata": {},
   "outputs": [
    {
     "data": {
      "text/plain": [
       "array([1, 5, 3, 4, 0, 2])"
      ]
     },
     "execution_count": 3,
     "metadata": {},
     "output_type": "execute_result"
    }
   ],
   "source": [
    "#Using argsort to get an int array of indices\n",
    "a = np.array([11,3,15,7,9,4])\n",
    "a.argsort()"
   ]
  },
  {
   "cell_type": "code",
   "execution_count": 23,
   "metadata": {},
   "outputs": [
    {
     "data": {
      "text/plain": [
       "array([4, 1, 3, 0, 2])"
      ]
     },
     "execution_count": 23,
     "metadata": {},
     "output_type": "execute_result"
    }
   ],
   "source": [
    "b = np.array([5,2,30,3,1])\n",
    "b.argsort()"
   ]
  },
  {
   "cell_type": "markdown",
   "metadata": {},
   "source": [
    "You may store your arrays on disk and retrieve them later using save() and load functions. You may also save multiple arrays in a zipped format using savez()"
   ]
  },
  {
   "cell_type": "code",
   "execution_count": null,
   "metadata": {
    "collapsed": true
   },
   "outputs": [],
   "source": [
    "np.save('my_array', a)\n",
    "np.load('my_array')"
   ]
  },
  {
   "cell_type": "markdown",
   "metadata": {},
   "source": [
    "Linear Algebra is arguably the most important foundation for data science. It typically involves manipulation of matrices - multiplication, eigenvalues, determinants, decompositions, and so forth. Numpy makes this fairly easy."
   ]
  },
  {
   "cell_type": "code",
   "execution_count": 57,
   "metadata": {},
   "outputs": [
    {
     "data": {
      "text/plain": [
       "array([[ 27,  33,  39],\n",
       "       [ 81,  96, 111]])"
      ]
     },
     "execution_count": 57,
     "metadata": {},
     "output_type": "execute_result"
    }
   ],
   "source": [
    "#Matrix multiplication\n",
    "x = np.array([[1,2,3],[4,5,6]])\n",
    "y = np.array([[10,11,12],[7,8,9],[1,2,3]])\n",
    "np.dot(x,y) #also, x.dot(y) or y.dot(x)"
   ]
  },
  {
   "cell_type": "code",
   "execution_count": 59,
   "metadata": {},
   "outputs": [
    {
     "data": {
      "text/plain": [
       "array([[-9.63336819e+14,  1.44500523e+15, -4.81668409e+14],\n",
       "       [ 1.92667364e+15, -2.89001046e+15,  9.63336819e+14],\n",
       "       [-9.63336819e+14,  1.44500523e+15, -4.81668409e+14]])"
      ]
     },
     "execution_count": 59,
     "metadata": {},
     "output_type": "execute_result"
    }
   ],
   "source": [
    "#inverse of a matrix\n",
    "from numpy.linalg import inv\n",
    "inv(y)"
   ]
  },
  {
   "cell_type": "code",
   "execution_count": 64,
   "metadata": {},
   "outputs": [
    {
     "data": {
      "text/plain": [
       "array([1, 5])"
      ]
     },
     "execution_count": 64,
     "metadata": {},
     "output_type": "execute_result"
    }
   ],
   "source": [
    "#return diagonals\n",
    "np.diag(x)"
   ]
  },
  {
   "cell_type": "code",
   "execution_count": 67,
   "metadata": {},
   "outputs": [
    {
     "data": {
      "text/plain": [
       "(array([ 1.96241438e+01,  1.37585620e+00, -9.97885047e-16]),\n",
       " array([[ 0.807611  ,  0.68286933,  0.40824829],\n",
       "        [ 0.57777082,  0.22339789, -0.81649658],\n",
       "        [ 0.11809045, -0.69554501,  0.40824829]]))"
      ]
     },
     "execution_count": 67,
     "metadata": {},
     "output_type": "execute_result"
    }
   ],
   "source": [
    "#eigenvalues and eigen vectors of a square matrix\n",
    "from numpy.linalg import eig\n",
    "eig(y)"
   ]
  },
  {
   "cell_type": "code",
   "execution_count": 69,
   "metadata": {},
   "outputs": [
    {
     "data": {
      "text/plain": [
       "(array([[-0.21483724,  0.88723069,  0.40824829],\n",
       "        [-0.52058739,  0.24964395, -0.81649658],\n",
       "        [-0.82633754, -0.38794278,  0.40824829]]),\n",
       " array([1.68481034e+01, 1.06836951e+00, 3.33475287e-16]),\n",
       " array([[-0.47967118, -0.57236779, -0.66506441],\n",
       "        [-0.77669099, -0.07568647,  0.62531805],\n",
       "        [-0.40824829,  0.81649658, -0.40824829]]))"
      ]
     },
     "execution_count": 69,
     "metadata": {},
     "output_type": "execute_result"
    }
   ],
   "source": [
    "#singular value decomposition\n",
    "from numpy.linalg import svd\n",
    "a = np.array([[1,2,3],[4,5,6],[7,8,9]])\n",
    "svd(a)"
   ]
  },
  {
   "cell_type": "markdown",
   "metadata": {},
   "source": [
    "End of Numpy Tutorial. Check out the other methods under numpy.linalg."
   ]
  }
 ],
 "metadata": {
  "kernelspec": {
   "display_name": "Python 3",
   "language": "python",
   "name": "python3"
  },
  "language_info": {
   "codemirror_mode": {
    "name": "ipython",
    "version": 3
   },
   "file_extension": ".py",
   "mimetype": "text/x-python",
   "name": "python",
   "nbconvert_exporter": "python",
   "pygments_lexer": "ipython3",
   "version": "3.7.4"
  }
 },
 "nbformat": 4,
 "nbformat_minor": 2
}
